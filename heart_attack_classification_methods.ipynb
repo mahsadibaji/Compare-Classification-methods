{
  "nbformat": 4,
  "nbformat_minor": 0,
  "metadata": {
    "kernelspec": {
      "language": "python",
      "display_name": "Python 3",
      "name": "python3"
    },
    "language_info": {
      "name": "python",
      "version": "3.7.10",
      "mimetype": "text/x-python",
      "codemirror_mode": {
        "name": "ipython",
        "version": 3
      },
      "pygments_lexer": "ipython3",
      "nbconvert_exporter": "python",
      "file_extension": ".py"
    },
    "colab": {
      "name": "heart-attack-classification-methods.ipynb",
      "provenance": []
    }
  },
  "cells": [
    {
      "cell_type": "code",
      "metadata": {
        "execution": {
          "iopub.status.busy": "2021-05-31T19:41:48.309973Z",
          "iopub.execute_input": "2021-05-31T19:41:48.310480Z",
          "iopub.status.idle": "2021-05-31T19:41:49.205382Z",
          "shell.execute_reply.started": "2021-05-31T19:41:48.310366Z",
          "shell.execute_reply": "2021-05-31T19:41:49.204551Z"
        },
        "trusted": true,
        "id": "jxNKBq2cz0cd"
      },
      "source": [
        "import pandas as pd\n",
        "import numpy as np\n",
        "import matplotlib.pyplot as plt\n",
        "import seaborn as sns"
      ],
      "execution_count": null,
      "outputs": []
    },
    {
      "cell_type": "markdown",
      "metadata": {
        "id": "Bi22CvJtz0cj"
      },
      "source": [
        "# EDA"
      ]
    },
    {
      "cell_type": "code",
      "metadata": {
        "execution": {
          "iopub.status.busy": "2021-05-31T19:41:49.206675Z",
          "iopub.execute_input": "2021-05-31T19:41:49.207169Z",
          "iopub.status.idle": "2021-05-31T19:41:49.268923Z",
          "shell.execute_reply.started": "2021-05-31T19:41:49.207135Z",
          "shell.execute_reply": "2021-05-31T19:41:49.268195Z"
        },
        "trusted": true,
        "id": "quJUTaRmz0cl",
        "outputId": "973ad0da-30ed-47e2-b79a-32e084576bcd"
      },
      "source": [
        "df = pd.read_csv(\"/kaggle/input/health-care-data-set-on-heart-attack-possibility/heart.csv\")\n",
        "df.head()"
      ],
      "execution_count": null,
      "outputs": [
        {
          "output_type": "execute_result",
          "data": {
            "text/plain": [
              "   age  sex  cp  trestbps  chol  fbs  restecg  thalach  exang  oldpeak  slope  \\\n",
              "0   63    1   3       145   233    1        0      150      0      2.3      0   \n",
              "1   37    1   2       130   250    0        1      187      0      3.5      0   \n",
              "2   41    0   1       130   204    0        0      172      0      1.4      2   \n",
              "3   56    1   1       120   236    0        1      178      0      0.8      2   \n",
              "4   57    0   0       120   354    0        1      163      1      0.6      2   \n",
              "\n",
              "   ca  thal  target  \n",
              "0   0     1       1  \n",
              "1   0     2       1  \n",
              "2   0     2       1  \n",
              "3   0     2       1  \n",
              "4   0     2       1  "
            ],
            "text/html": [
              "<div>\n",
              "<style scoped>\n",
              "    .dataframe tbody tr th:only-of-type {\n",
              "        vertical-align: middle;\n",
              "    }\n",
              "\n",
              "    .dataframe tbody tr th {\n",
              "        vertical-align: top;\n",
              "    }\n",
              "\n",
              "    .dataframe thead th {\n",
              "        text-align: right;\n",
              "    }\n",
              "</style>\n",
              "<table border=\"1\" class=\"dataframe\">\n",
              "  <thead>\n",
              "    <tr style=\"text-align: right;\">\n",
              "      <th></th>\n",
              "      <th>age</th>\n",
              "      <th>sex</th>\n",
              "      <th>cp</th>\n",
              "      <th>trestbps</th>\n",
              "      <th>chol</th>\n",
              "      <th>fbs</th>\n",
              "      <th>restecg</th>\n",
              "      <th>thalach</th>\n",
              "      <th>exang</th>\n",
              "      <th>oldpeak</th>\n",
              "      <th>slope</th>\n",
              "      <th>ca</th>\n",
              "      <th>thal</th>\n",
              "      <th>target</th>\n",
              "    </tr>\n",
              "  </thead>\n",
              "  <tbody>\n",
              "    <tr>\n",
              "      <th>0</th>\n",
              "      <td>63</td>\n",
              "      <td>1</td>\n",
              "      <td>3</td>\n",
              "      <td>145</td>\n",
              "      <td>233</td>\n",
              "      <td>1</td>\n",
              "      <td>0</td>\n",
              "      <td>150</td>\n",
              "      <td>0</td>\n",
              "      <td>2.3</td>\n",
              "      <td>0</td>\n",
              "      <td>0</td>\n",
              "      <td>1</td>\n",
              "      <td>1</td>\n",
              "    </tr>\n",
              "    <tr>\n",
              "      <th>1</th>\n",
              "      <td>37</td>\n",
              "      <td>1</td>\n",
              "      <td>2</td>\n",
              "      <td>130</td>\n",
              "      <td>250</td>\n",
              "      <td>0</td>\n",
              "      <td>1</td>\n",
              "      <td>187</td>\n",
              "      <td>0</td>\n",
              "      <td>3.5</td>\n",
              "      <td>0</td>\n",
              "      <td>0</td>\n",
              "      <td>2</td>\n",
              "      <td>1</td>\n",
              "    </tr>\n",
              "    <tr>\n",
              "      <th>2</th>\n",
              "      <td>41</td>\n",
              "      <td>0</td>\n",
              "      <td>1</td>\n",
              "      <td>130</td>\n",
              "      <td>204</td>\n",
              "      <td>0</td>\n",
              "      <td>0</td>\n",
              "      <td>172</td>\n",
              "      <td>0</td>\n",
              "      <td>1.4</td>\n",
              "      <td>2</td>\n",
              "      <td>0</td>\n",
              "      <td>2</td>\n",
              "      <td>1</td>\n",
              "    </tr>\n",
              "    <tr>\n",
              "      <th>3</th>\n",
              "      <td>56</td>\n",
              "      <td>1</td>\n",
              "      <td>1</td>\n",
              "      <td>120</td>\n",
              "      <td>236</td>\n",
              "      <td>0</td>\n",
              "      <td>1</td>\n",
              "      <td>178</td>\n",
              "      <td>0</td>\n",
              "      <td>0.8</td>\n",
              "      <td>2</td>\n",
              "      <td>0</td>\n",
              "      <td>2</td>\n",
              "      <td>1</td>\n",
              "    </tr>\n",
              "    <tr>\n",
              "      <th>4</th>\n",
              "      <td>57</td>\n",
              "      <td>0</td>\n",
              "      <td>0</td>\n",
              "      <td>120</td>\n",
              "      <td>354</td>\n",
              "      <td>0</td>\n",
              "      <td>1</td>\n",
              "      <td>163</td>\n",
              "      <td>1</td>\n",
              "      <td>0.6</td>\n",
              "      <td>2</td>\n",
              "      <td>0</td>\n",
              "      <td>2</td>\n",
              "      <td>1</td>\n",
              "    </tr>\n",
              "  </tbody>\n",
              "</table>\n",
              "</div>"
            ]
          },
          "metadata": {
            "tags": []
          },
          "execution_count": 2
        }
      ]
    },
    {
      "cell_type": "code",
      "metadata": {
        "execution": {
          "iopub.status.busy": "2021-05-31T19:41:49.270475Z",
          "iopub.execute_input": "2021-05-31T19:41:49.270864Z",
          "iopub.status.idle": "2021-05-31T19:41:49.294188Z",
          "shell.execute_reply.started": "2021-05-31T19:41:49.270836Z",
          "shell.execute_reply": "2021-05-31T19:41:49.293049Z"
        },
        "trusted": true,
        "id": "ST-l61XHz0co",
        "outputId": "64c29127-50d8-4521-b363-32a609deb758"
      },
      "source": [
        "df.info()"
      ],
      "execution_count": null,
      "outputs": [
        {
          "output_type": "stream",
          "text": [
            "<class 'pandas.core.frame.DataFrame'>\n",
            "RangeIndex: 303 entries, 0 to 302\n",
            "Data columns (total 14 columns):\n",
            " #   Column    Non-Null Count  Dtype  \n",
            "---  ------    --------------  -----  \n",
            " 0   age       303 non-null    int64  \n",
            " 1   sex       303 non-null    int64  \n",
            " 2   cp        303 non-null    int64  \n",
            " 3   trestbps  303 non-null    int64  \n",
            " 4   chol      303 non-null    int64  \n",
            " 5   fbs       303 non-null    int64  \n",
            " 6   restecg   303 non-null    int64  \n",
            " 7   thalach   303 non-null    int64  \n",
            " 8   exang     303 non-null    int64  \n",
            " 9   oldpeak   303 non-null    float64\n",
            " 10  slope     303 non-null    int64  \n",
            " 11  ca        303 non-null    int64  \n",
            " 12  thal      303 non-null    int64  \n",
            " 13  target    303 non-null    int64  \n",
            "dtypes: float64(1), int64(13)\n",
            "memory usage: 33.3 KB\n"
          ],
          "name": "stdout"
        }
      ]
    },
    {
      "cell_type": "code",
      "metadata": {
        "execution": {
          "iopub.status.busy": "2021-05-31T19:41:49.296258Z",
          "iopub.execute_input": "2021-05-31T19:41:49.296895Z",
          "iopub.status.idle": "2021-05-31T19:41:49.334512Z",
          "shell.execute_reply.started": "2021-05-31T19:41:49.296845Z",
          "shell.execute_reply": "2021-05-31T19:41:49.333669Z"
        },
        "trusted": true,
        "id": "Vzc1K7zbz0cp",
        "outputId": "dbf53dc7-2e8c-47d4-ce89-866cf2aee634"
      },
      "source": [
        "percent_missing = df.isnull().sum() * 100 / len(df)\n",
        "missing_value_df = pd.DataFrame({'column_name': df.columns,\n",
        "                                 'percent_missing': percent_missing})\n",
        "missing_value_df"
      ],
      "execution_count": null,
      "outputs": [
        {
          "output_type": "execute_result",
          "data": {
            "text/plain": [
              "         column_name  percent_missing\n",
              "age              age              0.0\n",
              "sex              sex              0.0\n",
              "cp                cp              0.0\n",
              "trestbps    trestbps              0.0\n",
              "chol            chol              0.0\n",
              "fbs              fbs              0.0\n",
              "restecg      restecg              0.0\n",
              "thalach      thalach              0.0\n",
              "exang          exang              0.0\n",
              "oldpeak      oldpeak              0.0\n",
              "slope          slope              0.0\n",
              "ca                ca              0.0\n",
              "thal            thal              0.0\n",
              "target        target              0.0"
            ],
            "text/html": [
              "<div>\n",
              "<style scoped>\n",
              "    .dataframe tbody tr th:only-of-type {\n",
              "        vertical-align: middle;\n",
              "    }\n",
              "\n",
              "    .dataframe tbody tr th {\n",
              "        vertical-align: top;\n",
              "    }\n",
              "\n",
              "    .dataframe thead th {\n",
              "        text-align: right;\n",
              "    }\n",
              "</style>\n",
              "<table border=\"1\" class=\"dataframe\">\n",
              "  <thead>\n",
              "    <tr style=\"text-align: right;\">\n",
              "      <th></th>\n",
              "      <th>column_name</th>\n",
              "      <th>percent_missing</th>\n",
              "    </tr>\n",
              "  </thead>\n",
              "  <tbody>\n",
              "    <tr>\n",
              "      <th>age</th>\n",
              "      <td>age</td>\n",
              "      <td>0.0</td>\n",
              "    </tr>\n",
              "    <tr>\n",
              "      <th>sex</th>\n",
              "      <td>sex</td>\n",
              "      <td>0.0</td>\n",
              "    </tr>\n",
              "    <tr>\n",
              "      <th>cp</th>\n",
              "      <td>cp</td>\n",
              "      <td>0.0</td>\n",
              "    </tr>\n",
              "    <tr>\n",
              "      <th>trestbps</th>\n",
              "      <td>trestbps</td>\n",
              "      <td>0.0</td>\n",
              "    </tr>\n",
              "    <tr>\n",
              "      <th>chol</th>\n",
              "      <td>chol</td>\n",
              "      <td>0.0</td>\n",
              "    </tr>\n",
              "    <tr>\n",
              "      <th>fbs</th>\n",
              "      <td>fbs</td>\n",
              "      <td>0.0</td>\n",
              "    </tr>\n",
              "    <tr>\n",
              "      <th>restecg</th>\n",
              "      <td>restecg</td>\n",
              "      <td>0.0</td>\n",
              "    </tr>\n",
              "    <tr>\n",
              "      <th>thalach</th>\n",
              "      <td>thalach</td>\n",
              "      <td>0.0</td>\n",
              "    </tr>\n",
              "    <tr>\n",
              "      <th>exang</th>\n",
              "      <td>exang</td>\n",
              "      <td>0.0</td>\n",
              "    </tr>\n",
              "    <tr>\n",
              "      <th>oldpeak</th>\n",
              "      <td>oldpeak</td>\n",
              "      <td>0.0</td>\n",
              "    </tr>\n",
              "    <tr>\n",
              "      <th>slope</th>\n",
              "      <td>slope</td>\n",
              "      <td>0.0</td>\n",
              "    </tr>\n",
              "    <tr>\n",
              "      <th>ca</th>\n",
              "      <td>ca</td>\n",
              "      <td>0.0</td>\n",
              "    </tr>\n",
              "    <tr>\n",
              "      <th>thal</th>\n",
              "      <td>thal</td>\n",
              "      <td>0.0</td>\n",
              "    </tr>\n",
              "    <tr>\n",
              "      <th>target</th>\n",
              "      <td>target</td>\n",
              "      <td>0.0</td>\n",
              "    </tr>\n",
              "  </tbody>\n",
              "</table>\n",
              "</div>"
            ]
          },
          "metadata": {
            "tags": []
          },
          "execution_count": 4
        }
      ]
    },
    {
      "cell_type": "code",
      "metadata": {
        "execution": {
          "iopub.status.busy": "2021-05-31T19:41:49.335748Z",
          "iopub.execute_input": "2021-05-31T19:41:49.336248Z",
          "iopub.status.idle": "2021-05-31T19:41:49.395732Z",
          "shell.execute_reply.started": "2021-05-31T19:41:49.336212Z",
          "shell.execute_reply": "2021-05-31T19:41:49.394443Z"
        },
        "trusted": true,
        "id": "b7X8p3Ttz0cr",
        "outputId": "8baa3875-7f11-497a-9eb0-8a477bf57a34"
      },
      "source": [
        "df.describe()"
      ],
      "execution_count": null,
      "outputs": [
        {
          "output_type": "execute_result",
          "data": {
            "text/plain": [
              "              age         sex          cp    trestbps        chol         fbs  \\\n",
              "count  303.000000  303.000000  303.000000  303.000000  303.000000  303.000000   \n",
              "mean    54.366337    0.683168    0.966997  131.623762  246.264026    0.148515   \n",
              "std      9.082101    0.466011    1.032052   17.538143   51.830751    0.356198   \n",
              "min     29.000000    0.000000    0.000000   94.000000  126.000000    0.000000   \n",
              "25%     47.500000    0.000000    0.000000  120.000000  211.000000    0.000000   \n",
              "50%     55.000000    1.000000    1.000000  130.000000  240.000000    0.000000   \n",
              "75%     61.000000    1.000000    2.000000  140.000000  274.500000    0.000000   \n",
              "max     77.000000    1.000000    3.000000  200.000000  564.000000    1.000000   \n",
              "\n",
              "          restecg     thalach       exang     oldpeak       slope          ca  \\\n",
              "count  303.000000  303.000000  303.000000  303.000000  303.000000  303.000000   \n",
              "mean     0.528053  149.646865    0.326733    1.039604    1.399340    0.729373   \n",
              "std      0.525860   22.905161    0.469794    1.161075    0.616226    1.022606   \n",
              "min      0.000000   71.000000    0.000000    0.000000    0.000000    0.000000   \n",
              "25%      0.000000  133.500000    0.000000    0.000000    1.000000    0.000000   \n",
              "50%      1.000000  153.000000    0.000000    0.800000    1.000000    0.000000   \n",
              "75%      1.000000  166.000000    1.000000    1.600000    2.000000    1.000000   \n",
              "max      2.000000  202.000000    1.000000    6.200000    2.000000    4.000000   \n",
              "\n",
              "             thal      target  \n",
              "count  303.000000  303.000000  \n",
              "mean     2.313531    0.544554  \n",
              "std      0.612277    0.498835  \n",
              "min      0.000000    0.000000  \n",
              "25%      2.000000    0.000000  \n",
              "50%      2.000000    1.000000  \n",
              "75%      3.000000    1.000000  \n",
              "max      3.000000    1.000000  "
            ],
            "text/html": [
              "<div>\n",
              "<style scoped>\n",
              "    .dataframe tbody tr th:only-of-type {\n",
              "        vertical-align: middle;\n",
              "    }\n",
              "\n",
              "    .dataframe tbody tr th {\n",
              "        vertical-align: top;\n",
              "    }\n",
              "\n",
              "    .dataframe thead th {\n",
              "        text-align: right;\n",
              "    }\n",
              "</style>\n",
              "<table border=\"1\" class=\"dataframe\">\n",
              "  <thead>\n",
              "    <tr style=\"text-align: right;\">\n",
              "      <th></th>\n",
              "      <th>age</th>\n",
              "      <th>sex</th>\n",
              "      <th>cp</th>\n",
              "      <th>trestbps</th>\n",
              "      <th>chol</th>\n",
              "      <th>fbs</th>\n",
              "      <th>restecg</th>\n",
              "      <th>thalach</th>\n",
              "      <th>exang</th>\n",
              "      <th>oldpeak</th>\n",
              "      <th>slope</th>\n",
              "      <th>ca</th>\n",
              "      <th>thal</th>\n",
              "      <th>target</th>\n",
              "    </tr>\n",
              "  </thead>\n",
              "  <tbody>\n",
              "    <tr>\n",
              "      <th>count</th>\n",
              "      <td>303.000000</td>\n",
              "      <td>303.000000</td>\n",
              "      <td>303.000000</td>\n",
              "      <td>303.000000</td>\n",
              "      <td>303.000000</td>\n",
              "      <td>303.000000</td>\n",
              "      <td>303.000000</td>\n",
              "      <td>303.000000</td>\n",
              "      <td>303.000000</td>\n",
              "      <td>303.000000</td>\n",
              "      <td>303.000000</td>\n",
              "      <td>303.000000</td>\n",
              "      <td>303.000000</td>\n",
              "      <td>303.000000</td>\n",
              "    </tr>\n",
              "    <tr>\n",
              "      <th>mean</th>\n",
              "      <td>54.366337</td>\n",
              "      <td>0.683168</td>\n",
              "      <td>0.966997</td>\n",
              "      <td>131.623762</td>\n",
              "      <td>246.264026</td>\n",
              "      <td>0.148515</td>\n",
              "      <td>0.528053</td>\n",
              "      <td>149.646865</td>\n",
              "      <td>0.326733</td>\n",
              "      <td>1.039604</td>\n",
              "      <td>1.399340</td>\n",
              "      <td>0.729373</td>\n",
              "      <td>2.313531</td>\n",
              "      <td>0.544554</td>\n",
              "    </tr>\n",
              "    <tr>\n",
              "      <th>std</th>\n",
              "      <td>9.082101</td>\n",
              "      <td>0.466011</td>\n",
              "      <td>1.032052</td>\n",
              "      <td>17.538143</td>\n",
              "      <td>51.830751</td>\n",
              "      <td>0.356198</td>\n",
              "      <td>0.525860</td>\n",
              "      <td>22.905161</td>\n",
              "      <td>0.469794</td>\n",
              "      <td>1.161075</td>\n",
              "      <td>0.616226</td>\n",
              "      <td>1.022606</td>\n",
              "      <td>0.612277</td>\n",
              "      <td>0.498835</td>\n",
              "    </tr>\n",
              "    <tr>\n",
              "      <th>min</th>\n",
              "      <td>29.000000</td>\n",
              "      <td>0.000000</td>\n",
              "      <td>0.000000</td>\n",
              "      <td>94.000000</td>\n",
              "      <td>126.000000</td>\n",
              "      <td>0.000000</td>\n",
              "      <td>0.000000</td>\n",
              "      <td>71.000000</td>\n",
              "      <td>0.000000</td>\n",
              "      <td>0.000000</td>\n",
              "      <td>0.000000</td>\n",
              "      <td>0.000000</td>\n",
              "      <td>0.000000</td>\n",
              "      <td>0.000000</td>\n",
              "    </tr>\n",
              "    <tr>\n",
              "      <th>25%</th>\n",
              "      <td>47.500000</td>\n",
              "      <td>0.000000</td>\n",
              "      <td>0.000000</td>\n",
              "      <td>120.000000</td>\n",
              "      <td>211.000000</td>\n",
              "      <td>0.000000</td>\n",
              "      <td>0.000000</td>\n",
              "      <td>133.500000</td>\n",
              "      <td>0.000000</td>\n",
              "      <td>0.000000</td>\n",
              "      <td>1.000000</td>\n",
              "      <td>0.000000</td>\n",
              "      <td>2.000000</td>\n",
              "      <td>0.000000</td>\n",
              "    </tr>\n",
              "    <tr>\n",
              "      <th>50%</th>\n",
              "      <td>55.000000</td>\n",
              "      <td>1.000000</td>\n",
              "      <td>1.000000</td>\n",
              "      <td>130.000000</td>\n",
              "      <td>240.000000</td>\n",
              "      <td>0.000000</td>\n",
              "      <td>1.000000</td>\n",
              "      <td>153.000000</td>\n",
              "      <td>0.000000</td>\n",
              "      <td>0.800000</td>\n",
              "      <td>1.000000</td>\n",
              "      <td>0.000000</td>\n",
              "      <td>2.000000</td>\n",
              "      <td>1.000000</td>\n",
              "    </tr>\n",
              "    <tr>\n",
              "      <th>75%</th>\n",
              "      <td>61.000000</td>\n",
              "      <td>1.000000</td>\n",
              "      <td>2.000000</td>\n",
              "      <td>140.000000</td>\n",
              "      <td>274.500000</td>\n",
              "      <td>0.000000</td>\n",
              "      <td>1.000000</td>\n",
              "      <td>166.000000</td>\n",
              "      <td>1.000000</td>\n",
              "      <td>1.600000</td>\n",
              "      <td>2.000000</td>\n",
              "      <td>1.000000</td>\n",
              "      <td>3.000000</td>\n",
              "      <td>1.000000</td>\n",
              "    </tr>\n",
              "    <tr>\n",
              "      <th>max</th>\n",
              "      <td>77.000000</td>\n",
              "      <td>1.000000</td>\n",
              "      <td>3.000000</td>\n",
              "      <td>200.000000</td>\n",
              "      <td>564.000000</td>\n",
              "      <td>1.000000</td>\n",
              "      <td>2.000000</td>\n",
              "      <td>202.000000</td>\n",
              "      <td>1.000000</td>\n",
              "      <td>6.200000</td>\n",
              "      <td>2.000000</td>\n",
              "      <td>4.000000</td>\n",
              "      <td>3.000000</td>\n",
              "      <td>1.000000</td>\n",
              "    </tr>\n",
              "  </tbody>\n",
              "</table>\n",
              "</div>"
            ]
          },
          "metadata": {
            "tags": []
          },
          "execution_count": 5
        }
      ]
    },
    {
      "cell_type": "code",
      "metadata": {
        "execution": {
          "iopub.status.busy": "2021-05-31T19:46:44.680037Z",
          "iopub.execute_input": "2021-05-31T19:46:44.680397Z",
          "iopub.status.idle": "2021-05-31T19:46:44.982862Z",
          "shell.execute_reply.started": "2021-05-31T19:46:44.680368Z",
          "shell.execute_reply": "2021-05-31T19:46:44.982030Z"
        },
        "trusted": true,
        "id": "mGo5FjJ6z0cr",
        "outputId": "7ab4cf75-653a-4805-f48b-d67d8b563da3"
      },
      "source": [
        "cols= [\"#C2C4E2\",\"#EED4E5\"]\n",
        "sns.countplot(x= df['target'], palette = 'Blues')"
      ],
      "execution_count": null,
      "outputs": [
        {
          "output_type": "execute_result",
          "data": {
            "text/plain": [
              "<AxesSubplot:xlabel='target', ylabel='count'>"
            ]
          },
          "metadata": {
            "tags": []
          },
          "execution_count": 23
        },
        {
          "output_type": "display_data",
          "data": {
            "text/plain": [
              "<Figure size 432x288 with 1 Axes>"
            ],
            "image/png": "[encoded data removed]"
          },
          "metadata": {
            "tags": [],
            "needs_background": "light"
          }
        }
      ]
    },
    {
      "cell_type": "markdown",
      "metadata": {
        "id": "4dareKm8z0cs"
      },
      "source": [
        "### correlation between features\n",
        "as we can see the correlation between all pairs of features is less than 0.5.\n",
        "the features which have the most correlation with target are cp, thalac and slope."
      ]
    },
    {
      "cell_type": "code",
      "metadata": {
        "execution": {
          "iopub.status.busy": "2021-05-31T19:47:23.732550Z",
          "iopub.execute_input": "2021-05-31T19:47:23.732932Z",
          "iopub.status.idle": "2021-05-31T19:47:24.501798Z",
          "shell.execute_reply.started": "2021-05-31T19:47:23.732898Z",
          "shell.execute_reply": "2021-05-31T19:47:24.500931Z"
        },
        "trusted": true,
        "id": "7vzg56Wuz0ct",
        "outputId": "8b597699-1714-45a2-d5a0-8a0adfbd304e"
      },
      "source": [
        "corr = df.corr()\n",
        "plt.figure(figsize=(15,10))\n",
        "cmap = sns.diverging_palette(260,-10,s=50, l=75, n=6, as_cmap=True)\n",
        "mask = np.zeros_like(corr, dtype= np.bool)\n",
        "mask[np.triu_indices_from(mask)] = True\n",
        "sns.heatmap(corr,mask=mask,annot=True,cmap = cmap)\n",
        "plt.show()"
      ],
      "execution_count": null,
      "outputs": [
        {
          "output_type": "display_data",
          "data": {
            "text/plain": [
              "<Figure size 1080x720 with 2 Axes>"
            ],
            "image/png": "[encoded data removed]"
          },
          "metadata": {
            "tags": [],
            "needs_background": "light"
          }
        }
      ]
    },
    {
      "cell_type": "markdown",
      "metadata": {
        "id": "OR4AMdQXz0cv"
      },
      "source": [
        "### distribution of non-categorial features"
      ]
    },
    {
      "cell_type": "code",
      "metadata": {
        "execution": {
          "iopub.status.busy": "2021-05-31T19:41:50.356244Z",
          "iopub.execute_input": "2021-05-31T19:41:50.356597Z",
          "iopub.status.idle": "2021-05-31T19:41:51.627758Z",
          "shell.execute_reply.started": "2021-05-31T19:41:50.356564Z",
          "shell.execute_reply": "2021-05-31T19:41:51.626609Z"
        },
        "trusted": true,
        "id": "oKv6AXjlz0c4",
        "outputId": "6ae562f1-12c9-4f5a-a636-6e77ae6a71a1"
      },
      "source": [
        "fig, axs = plt.subplots(2, 3, figsize=(15, 15))\n",
        "\n",
        "sns.histplot(data=df, x=\"age\", color=\"skyblue\", label=\"age\", kde=True, ax=axs[0, 0])\n",
        "sns.histplot(data=df, x=\"trestbps\", color=\"red\", label=\"trestbps\", kde=True, ax=axs[0, 1])\n",
        "sns.histplot(data=df, x=\"chol\", color=\"green\", label=\"chol\", kde=True, ax=axs[0, 2])\n",
        "sns.histplot(data=df, x=\"thalach\", color=\"darkblue\", label=\"thalach\", kde=True, ax=axs[1, 0])\n",
        "sns.histplot(data=df, x=\"oldpeak\", color=\"orange\", label=\"oldpeak\", kde=True, ax=axs[1, 1])\n",
        "plt.show()"
      ],
      "execution_count": null,
      "outputs": [
        {
          "output_type": "display_data",
          "data": {
            "text/plain": [
              "<Figure size 1080x1080 with 6 Axes>"
            ],
            "image/png": "[encoded data removed]"
          },
          "metadata": {
            "tags": [],
            "needs_background": "light"
          }
        }
      ]
    },
    {
      "cell_type": "markdown",
      "metadata": {
        "id": "7xmptUspz0c5"
      },
      "source": [
        "# Train and Evaluate Models\n",
        "For This purpose, we are going to construct a scikit-learn pipeline that includes steps for data preprocessing (scaling) and classification. We are going to use a few of the well-known classification model for the initial evaluation, then choose the best performing model and tune their hyperparameters to achieve the best result.\n",
        "\n",
        "____\n",
        "## import Libraries"
      ]
    },
    {
      "cell_type": "code",
      "metadata": {
        "execution": {
          "iopub.status.busy": "2021-05-31T19:41:51.630104Z",
          "iopub.execute_input": "2021-05-31T19:41:51.630479Z",
          "iopub.status.idle": "2021-05-31T19:41:52.146942Z",
          "shell.execute_reply.started": "2021-05-31T19:41:51.630446Z",
          "shell.execute_reply": "2021-05-31T19:41:52.145686Z"
        },
        "trusted": true,
        "id": "1pKMKINrz0c6"
      },
      "source": [
        "from sklearn.model_selection import train_test_split, GridSearchCV\n",
        "from sklearn.tree import DecisionTreeClassifier\n",
        "from sklearn.neighbors import KNeighborsClassifier\n",
        "from sklearn.ensemble import RandomForestClassifier\n",
        "from sklearn.linear_model import LogisticRegression\n",
        "from sklearn.svm import SVC\n",
        "\n",
        "from sklearn.metrics import accuracy_score\n",
        "from sklearn.metrics import classification_report, confusion_matrix\n",
        "\n",
        "from sklearn.pipeline import make_pipeline, Pipeline\n",
        "from sklearn.impute import SimpleImputer\n",
        "from sklearn.preprocessing import StandardScaler, MinMaxScaler\n",
        "from sklearn.base import BaseEstimator"
      ],
      "execution_count": null,
      "outputs": []
    },
    {
      "cell_type": "markdown",
      "metadata": {
        "id": "74S8SqCFz0c7"
      },
      "source": [
        "## Define Train and Test Data "
      ]
    },
    {
      "cell_type": "code",
      "metadata": {
        "execution": {
          "iopub.status.busy": "2021-05-31T19:41:52.148908Z",
          "iopub.execute_input": "2021-05-31T19:41:52.149407Z",
          "iopub.status.idle": "2021-05-31T19:41:52.159853Z",
          "shell.execute_reply.started": "2021-05-31T19:41:52.149348Z",
          "shell.execute_reply": "2021-05-31T19:41:52.158322Z"
        },
        "trusted": true,
        "id": "pTzsIbhLz0c7"
      },
      "source": [
        "x = df.drop(columns = \"target\")\n",
        "y = df[\"target\"]\n",
        "x_train,x_test,y_train,y_test=train_test_split(x, y, test_size=0.33,random_state= 42)"
      ],
      "execution_count": null,
      "outputs": []
    },
    {
      "cell_type": "markdown",
      "metadata": {
        "id": "rjZ7e0esz0c7"
      },
      "source": [
        "##  initital evaluation \n",
        "For the initial evaluation and comparing the performance of different regression model, we use a pipeline.\n",
        "First step in the pipeline is the scaler. This step is necessary for some models, so that all the feature have the same scale and their initial differences in the order of magnitude, will not impact the model. we use `StandardScaler()` to preserve the shape of the data.\n",
        "The Second step in the pipeline is the regressor, for which we have 5 options.\n",
        "\n",
        "* DecisionTreeClassifier,\n",
        "* RandomForestClassifier,\n",
        "* KNeighborsClassifier,\n",
        "* LogisticRegression,\n",
        "* SVC\n",
        "\n",
        "We will define a function (`initial_eval()`) that takes pipeline and data as input, and generates score. For the score, we will report $R^2$."
      ]
    },
    {
      "cell_type": "code",
      "metadata": {
        "execution": {
          "iopub.status.busy": "2021-05-31T19:41:52.161994Z",
          "iopub.execute_input": "2021-05-31T19:41:52.162591Z",
          "iopub.status.idle": "2021-05-31T19:41:52.180259Z",
          "shell.execute_reply.started": "2021-05-31T19:41:52.162547Z",
          "shell.execute_reply": "2021-05-31T19:41:52.179286Z"
        },
        "trusted": true,
        "id": "vuvdJbISz0c8"
      },
      "source": [
        "def initial_eval(pipeline, X_train, y_train, X_test, y_test, verbose=False):\n",
        "    \"\"\"\n",
        "    Quickly trains modeling pipeline and evaluates on test data.    \n",
        "    Returns original model, training RMSE, and testing RMSE as a tuple.\n",
        "    \"\"\"\n",
        "\n",
        "    pipeline.fit(X_train, y_train)\n",
        "    y_train_pred = pipeline.predict(X_train)\n",
        "\n",
        "    train_score = pipeline.score(X_train,y_train)\n",
        "    test_score = pipeline.score(X_test,y_test)\n",
        "\n",
        "    if verbose:\n",
        "\n",
        "        print(f\"Train score: {train_score}\")\n",
        "        print(f\"Test score: {test_score}\")\n",
        "\n",
        "    return train_score, test_score"
      ],
      "execution_count": null,
      "outputs": []
    },
    {
      "cell_type": "code",
      "metadata": {
        "execution": {
          "iopub.status.busy": "2021-05-31T19:41:52.181450Z",
          "iopub.execute_input": "2021-05-31T19:41:52.181870Z",
          "iopub.status.idle": "2021-05-31T19:41:52.552635Z",
          "shell.execute_reply.started": "2021-05-31T19:41:52.181838Z",
          "shell.execute_reply": "2021-05-31T19:41:52.551447Z"
        },
        "trusted": true,
        "id": "idkf3drDz0c9",
        "outputId": "30868268-4533-4ec0-c507-3c071eed455b"
      },
      "source": [
        "classifiers = [\n",
        "    DecisionTreeClassifier(),\n",
        "    RandomForestClassifier(),\n",
        "    KNeighborsClassifier(),\n",
        "    LogisticRegression(),\n",
        "    SVC()\n",
        "]\n",
        "\n",
        "initial_score = pd.DataFrame(\n",
        "    columns=['Class','Train/Test', 'Score'])\n",
        "\n",
        "for classifier in classifiers:\n",
        "    farm_pipeline = make_pipeline(\n",
        "        StandardScaler(),\n",
        "        classifier\n",
        "    )\n",
        "    \n",
        "    r = initial_eval(farm_pipeline, x_train, y_train, x_test, y_test)\n",
        "    initial_score = initial_score.append(pd.Series(\n",
        "        [classifier.__class__.__name__,'Train Score', r[0]],\n",
        "        index=initial_score.columns), ignore_index=True)\n",
        "    initial_score = initial_score.append(pd.Series(\n",
        "        [classifier.__class__.__name__,'Test Score', r[1]],\n",
        "        index=initial_score.columns), ignore_index=True)\n",
        "\n",
        "display(initial_score)"
      ],
      "execution_count": null,
      "outputs": [
        {
          "output_type": "display_data",
          "data": {
            "text/plain": [
              "                    Class   Train/Test     Score\n",
              "0  DecisionTreeClassifier  Train Score  1.000000\n",
              "1  DecisionTreeClassifier   Test Score  0.720000\n",
              "2  RandomForestClassifier  Train Score  1.000000\n",
              "3  RandomForestClassifier   Test Score  0.800000\n",
              "4    KNeighborsClassifier  Train Score  0.857143\n",
              "5    KNeighborsClassifier   Test Score  0.840000\n",
              "6      LogisticRegression  Train Score  0.886700\n",
              "7      LogisticRegression   Test Score  0.810000\n",
              "8                     SVC  Train Score  0.931034\n",
              "9                     SVC   Test Score  0.820000"
            ],
            "text/html": [
              "<div>\n",
              "<style scoped>\n",
              "    .dataframe tbody tr th:only-of-type {\n",
              "        vertical-align: middle;\n",
              "    }\n",
              "\n",
              "    .dataframe tbody tr th {\n",
              "        vertical-align: top;\n",
              "    }\n",
              "\n",
              "    .dataframe thead th {\n",
              "        text-align: right;\n",
              "    }\n",
              "</style>\n",
              "<table border=\"1\" class=\"dataframe\">\n",
              "  <thead>\n",
              "    <tr style=\"text-align: right;\">\n",
              "      <th></th>\n",
              "      <th>Class</th>\n",
              "      <th>Train/Test</th>\n",
              "      <th>Score</th>\n",
              "    </tr>\n",
              "  </thead>\n",
              "  <tbody>\n",
              "    <tr>\n",
              "      <th>0</th>\n",
              "      <td>DecisionTreeClassifier</td>\n",
              "      <td>Train Score</td>\n",
              "      <td>1.000000</td>\n",
              "    </tr>\n",
              "    <tr>\n",
              "      <th>1</th>\n",
              "      <td>DecisionTreeClassifier</td>\n",
              "      <td>Test Score</td>\n",
              "      <td>0.720000</td>\n",
              "    </tr>\n",
              "    <tr>\n",
              "      <th>2</th>\n",
              "      <td>RandomForestClassifier</td>\n",
              "      <td>Train Score</td>\n",
              "      <td>1.000000</td>\n",
              "    </tr>\n",
              "    <tr>\n",
              "      <th>3</th>\n",
              "      <td>RandomForestClassifier</td>\n",
              "      <td>Test Score</td>\n",
              "      <td>0.800000</td>\n",
              "    </tr>\n",
              "    <tr>\n",
              "      <th>4</th>\n",
              "      <td>KNeighborsClassifier</td>\n",
              "      <td>Train Score</td>\n",
              "      <td>0.857143</td>\n",
              "    </tr>\n",
              "    <tr>\n",
              "      <th>5</th>\n",
              "      <td>KNeighborsClassifier</td>\n",
              "      <td>Test Score</td>\n",
              "      <td>0.840000</td>\n",
              "    </tr>\n",
              "    <tr>\n",
              "      <th>6</th>\n",
              "      <td>LogisticRegression</td>\n",
              "      <td>Train Score</td>\n",
              "      <td>0.886700</td>\n",
              "    </tr>\n",
              "    <tr>\n",
              "      <th>7</th>\n",
              "      <td>LogisticRegression</td>\n",
              "      <td>Test Score</td>\n",
              "      <td>0.810000</td>\n",
              "    </tr>\n",
              "    <tr>\n",
              "      <th>8</th>\n",
              "      <td>SVC</td>\n",
              "      <td>Train Score</td>\n",
              "      <td>0.931034</td>\n",
              "    </tr>\n",
              "    <tr>\n",
              "      <th>9</th>\n",
              "      <td>SVC</td>\n",
              "      <td>Test Score</td>\n",
              "      <td>0.820000</td>\n",
              "    </tr>\n",
              "  </tbody>\n",
              "</table>\n",
              "</div>"
            ]
          },
          "metadata": {
            "tags": []
          }
        }
      ]
    },
    {
      "cell_type": "code",
      "metadata": {
        "execution": {
          "iopub.status.busy": "2021-05-31T19:41:52.554213Z",
          "iopub.execute_input": "2021-05-31T19:41:52.554504Z",
          "iopub.status.idle": "2021-05-31T19:41:52.951399Z",
          "shell.execute_reply.started": "2021-05-31T19:41:52.554476Z",
          "shell.execute_reply": "2021-05-31T19:41:52.950341Z"
        },
        "trusted": true,
        "id": "DC3FiDUJz0c9",
        "outputId": "6cc3889b-1386-4c19-93ac-92f26ed0cf37"
      },
      "source": [
        "plt.figure(figsize=(9, 6))\n",
        "\n",
        "sns.barplot(y='Class', x='Score', \n",
        "            data=initial_score.sort_values(by=['Score'], ascending=False),\n",
        "            hue='Train/Test',\n",
        "            palette='Blues').set_title('Score, $R^2$ (higher is better)');\n",
        "plt.legend(bbox_to_anchor=(1.05, 1), loc=2);"
      ],
      "execution_count": null,
      "outputs": [
        {
          "output_type": "display_data",
          "data": {
            "text/plain": [
              "<Figure size 648x432 with 1 Axes>"
            ],
            "image/png": "[encoded data removed]"
          },
          "metadata": {
            "tags": [],
            "needs_background": "light"
          }
        }
      ]
    },
    {
      "cell_type": "markdown",
      "metadata": {
        "id": "SDsU6AHNz0c-"
      },
      "source": [
        "Looking at above figure, we can see that our two best models are K Nearest Neighbors and SVC which have slightly higher test scores among other classifiers.\n",
        "Moving on to hyperparameter tuning, we select our two best models, K Nearest Neighbors and SVC for further investigation.\n",
        "\n",
        "-----\n",
        "## Hyperparameter Tuning\n",
        "For hyperparameter tuning, we are going to use scikit-learn's `GridSearchCV()`. Since we have two models to tune, we need to make a switcher that can act as a wrapper for our regression model. It is called `ClfSwitcher()`.\n",
        "\n",
        "Then, we are going to construct a pipeline (same as before), which has scaler and classifier.\n",
        "Finally, for the grid search, we use 5-fold cross-validation."
      ]
    },
    {
      "cell_type": "code",
      "metadata": {
        "execution": {
          "iopub.status.busy": "2021-05-31T19:41:52.953323Z",
          "iopub.execute_input": "2021-05-31T19:41:52.954123Z",
          "iopub.status.idle": "2021-05-31T19:41:52.962131Z",
          "shell.execute_reply.started": "2021-05-31T19:41:52.954073Z",
          "shell.execute_reply": "2021-05-31T19:41:52.961370Z"
        },
        "trusted": true,
        "id": "WHG9RwTfz0c-"
      },
      "source": [
        "class ClfSwitcher(BaseEstimator):\n",
        "    \"\"\"\n",
        "    A Custom BaseEstimator that can switch between different Regressors.\n",
        "    \"\"\"\n",
        "\n",
        "    def __init__(\n",
        "        self,\n",
        "        estimator=LogisticRegression(),\n",
        "    ):\n",
        "\n",
        "        self.estimator = estimator\n",
        "\n",
        "    def fit(self, X, y=None, **kwargs):\n",
        "        self.estimator.fit(X, y)\n",
        "        return self\n",
        "\n",
        "    def predict(self, X, y=None):\n",
        "        return self.estimator.predict(X)\n",
        "\n",
        "    def score(self, X, y):\n",
        "        return self.estimator.score(X, y)\n",
        "    "
      ],
      "execution_count": null,
      "outputs": []
    },
    {
      "cell_type": "code",
      "metadata": {
        "_kg_hide-output": true,
        "execution": {
          "iopub.status.busy": "2021-05-31T19:41:52.963411Z",
          "iopub.execute_input": "2021-05-31T19:41:52.963934Z",
          "iopub.status.idle": "2021-05-31T19:41:56.366909Z",
          "shell.execute_reply.started": "2021-05-31T19:41:52.963903Z",
          "shell.execute_reply": "2021-05-31T19:41:56.365628Z"
        },
        "trusted": true,
        "id": "KgiAfYjbz0c_",
        "outputId": "abace5fc-0e8c-4f84-bb7a-303663dea6d6"
      },
      "source": [
        "pipeline = Pipeline([\n",
        "    ('scaler', StandardScaler()),\n",
        "    ('clf',ClfSwitcher())\n",
        "])\n",
        "\n",
        "parameters = [\n",
        "\n",
        "    {\n",
        "        'clf__estimator': [KNeighborsClassifier()],\n",
        "        'clf__estimator__n_neighbors': [3, 5, 7,11],\n",
        "        'clf__estimator__weights': ['uniform','distance'],\n",
        "        'clf__estimator__metric': ['manhattan','minkowski'],\n",
        "    },\n",
        "    {\n",
        "        'clf__estimator': [SVC()],\n",
        "        'clf__estimator__C': [1,10,100],\n",
        "        'clf__estimator__gamma': [1,0.1,0.001],\n",
        "        'clf__estimator__kernel': ['linear'],\n",
        "    }\n",
        "]\n",
        "\n",
        "gscv = GridSearchCV(pipeline, parameters, cv=5, n_jobs=-1,\n",
        "                    return_train_score=False, verbose=3,refit=True)\n",
        "gscv.fit(x_train, y_train)"
      ],
      "execution_count": null,
      "outputs": [
        {
          "output_type": "stream",
          "text": [
            "Fitting 5 folds for each of 25 candidates, totalling 125 fits\n"
          ],
          "name": "stdout"
        },
        {
          "output_type": "execute_result",
          "data": {
            "text/plain": [
              "GridSearchCV(cv=5,\n",
              "             estimator=Pipeline(steps=[('scaler', StandardScaler()),\n",
              "                                       ('clf', ClfSwitcher())]),\n",
              "             n_jobs=-1,\n",
              "             param_grid=[{'clf__estimator': [KNeighborsClassifier(metric='manhattan',\n",
              "                                                                  n_neighbors=11,\n",
              "                                                                  weights='distance')],\n",
              "                          'clf__estimator__metric': ['manhattan', 'minkowski'],\n",
              "                          'clf__estimator__n_neighbors': [3, 5, 7, 11],\n",
              "                          'clf__estimator__weights': ['uniform', 'distance']},\n",
              "                         {'clf__estimator': [SVC()],\n",
              "                          'clf__estimator__C': [1, 10, 100],\n",
              "                          'clf__estimator__gamma': [1, 0.1, 0.001],\n",
              "                          'clf__estimator__kernel': ['linear']}],\n",
              "             verbose=3)"
            ]
          },
          "metadata": {
            "tags": []
          },
          "execution_count": 15
        }
      ]
    },
    {
      "cell_type": "markdown",
      "metadata": {
        "id": "qrVApHPHz0c_"
      },
      "source": [
        "## Results\n",
        "\n",
        "After the grid search is done, we can see the best parameters and use the best estimator to predict the results."
      ]
    },
    {
      "cell_type": "code",
      "metadata": {
        "execution": {
          "iopub.status.busy": "2021-05-31T19:41:56.368776Z",
          "iopub.execute_input": "2021-05-31T19:41:56.369419Z",
          "iopub.status.idle": "2021-05-31T19:41:56.379219Z",
          "shell.execute_reply.started": "2021-05-31T19:41:56.369368Z",
          "shell.execute_reply": "2021-05-31T19:41:56.377912Z"
        },
        "trusted": true,
        "id": "xvVNq1Qqz0dA",
        "outputId": "62f7996b-1b9a-48d4-db50-549f096237cf"
      },
      "source": [
        "gscv.best_params_"
      ],
      "execution_count": null,
      "outputs": [
        {
          "output_type": "execute_result",
          "data": {
            "text/plain": [
              "{'clf__estimator': KNeighborsClassifier(metric='manhattan', n_neighbors=11, weights='distance'),\n",
              " 'clf__estimator__metric': 'manhattan',\n",
              " 'clf__estimator__n_neighbors': 11,\n",
              " 'clf__estimator__weights': 'distance'}"
            ]
          },
          "metadata": {
            "tags": []
          },
          "execution_count": 16
        }
      ]
    },
    {
      "cell_type": "code",
      "metadata": {
        "execution": {
          "iopub.status.busy": "2021-05-31T19:41:56.380975Z",
          "iopub.execute_input": "2021-05-31T19:41:56.381343Z",
          "iopub.status.idle": "2021-05-31T19:41:56.420207Z",
          "shell.execute_reply.started": "2021-05-31T19:41:56.381311Z",
          "shell.execute_reply": "2021-05-31T19:41:56.418871Z"
        },
        "trusted": true,
        "id": "x2qjTiukz0dA",
        "outputId": "9c4d9025-63cb-469a-a0e0-bb8c6787ecbe"
      },
      "source": [
        "y_train_pred = gscv.best_estimator_.predict(x_train)\n",
        "y_test_pred = gscv.best_estimator_.predict(x_test)\n",
        "print(gscv.best_estimator_.score(x_train,y_train))\n",
        "print(gscv.best_estimator_.score(x_test,y_test))\n",
        "print(classification_report(y_test,y_test_pred))"
      ],
      "execution_count": null,
      "outputs": [
        {
          "output_type": "stream",
          "text": [
            "1.0\n",
            "0.84\n",
            "              precision    recall  f1-score   support\n",
            "\n",
            "           0       0.81      0.81      0.81        42\n",
            "           1       0.86      0.86      0.86        58\n",
            "\n",
            "    accuracy                           0.84       100\n",
            "   macro avg       0.84      0.84      0.84       100\n",
            "weighted avg       0.84      0.84      0.84       100\n",
            "\n"
          ],
          "name": "stdout"
        }
      ]
    },
    {
      "cell_type": "code",
      "metadata": {
        "execution": {
          "iopub.status.busy": "2021-05-31T19:41:56.421598Z",
          "iopub.execute_input": "2021-05-31T19:41:56.421917Z",
          "iopub.status.idle": "2021-05-31T19:41:56.700636Z",
          "shell.execute_reply.started": "2021-05-31T19:41:56.421887Z",
          "shell.execute_reply": "2021-05-31T19:41:56.699408Z"
        },
        "trusted": true,
        "id": "THXShIFbz0dB",
        "outputId": "e648cfae-346d-46e1-f9d8-3c70e99d692d"
      },
      "source": [
        "cm = confusion_matrix(y_test, y_test_pred)\n",
        "\n",
        "group_names = ['True negative','False positive','False negative','True positive']\n",
        "group_counts = ['{0:0.0f}'.format(value) for value in cm.flatten()]\n",
        "group_percentages = ['{0:.2%}'.format(value) for value in cm.flatten()/np.sum(cm)]\n",
        "labels = [f'{v1}\\n{v2}\\n{v3}' for v1, v2, v3 in zip(group_names,group_counts,group_percentages)]\n",
        "labels = np.asarray(labels).reshape(2,2)\n",
        "plt.figure(figsize = (10,7))\n",
        "sns.heatmap(cm, annot=labels, fmt='', cmap='Blues')\n",
        "plt.show()"
      ],
      "execution_count": null,
      "outputs": [
        {
          "output_type": "display_data",
          "data": {
            "text/plain": [
              "<Figure size 720x504 with 2 Axes>"
            ],
            "image/png": "[encoded data removed]"
          },
          "metadata": {
            "tags": [],
            "needs_background": "light"
          }
        }
      ]
    }
  ]
}